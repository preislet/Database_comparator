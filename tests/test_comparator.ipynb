{
 "cells": [
  {
   "cell_type": "markdown",
   "id": "10ba446d",
   "metadata": {},
   "source": [
    "# 🧪 Library Testing\n",
    "Purpose: Verify correct functionality of the database system and all library components."
   ]
  },
  {
   "cell_type": "code",
   "execution_count": 2,
   "id": "cd9ae6dc",
   "metadata": {},
   "outputs": [],
   "source": [
    "import TESTING"
   ]
  },
  {
   "cell_type": "markdown",
   "id": "0e8fc7c3",
   "metadata": {},
   "source": [
    "### 📊 Test Results"
   ]
  },
  {
   "cell_type": "code",
   "execution_count": 3,
   "id": "b099e166",
   "metadata": {},
   "outputs": [
    {
     "name": "stdout",
     "output_type": "stream",
     "text": [
      "╒════════════════════════╤════════════╤═══════════════════╤══════════════════════╕\n",
      "│ Test Name              │ Status     │ File Comparison   │   Execution Time (s) │\n",
      "╞════════════════════════╪════════════╪═══════════════════╪══════════════════════╡\n",
      "│ Initialization Test    │ ✅ Success │ N/A               │                 0.19 │\n",
      "├────────────────────────┼────────────┼───────────────────┼──────────────────────┤\n",
      "│ Exporting Test         │ ✅ Success │ N/A               │                 0.01 │\n",
      "├────────────────────────┼────────────┼───────────────────┼──────────────────────┤\n",
      "│ Exact Match Test       │ ✅ Success │ ✅ Match          │                 0.03 │\n",
      "├────────────────────────┼────────────┼───────────────────┼──────────────────────┤\n",
      "│ Hamming Distances Test │ ✅ Success │ ✅ Match          │                 1.96 │\n",
      "├────────────────────────┼────────────┼───────────────────┼──────────────────────┤\n",
      "│ Aligner Test           │ ✅ Success │ ✅ Match          │                 0.73 │\n",
      "├────────────────────────┼────────────┼───────────────────┼──────────────────────┤\n",
      "│ BLAST Test             │ ✅ Success │ ✅ Match          │                 0.56 │\n",
      "╘════════════════════════╧════════════╧═══════════════════╧══════════════════════╛\n"
     ]
    }
   ],
   "source": [
    "TESTING.generate_table_of_results()"
   ]
  }
 ],
 "metadata": {
  "kernelspec": {
   "display_name": "venv",
   "language": "python",
   "name": "python3"
  },
  "language_info": {
   "codemirror_mode": {
    "name": "ipython",
    "version": 3
   },
   "file_extension": ".py",
   "mimetype": "text/x-python",
   "name": "python",
   "nbconvert_exporter": "python",
   "pygments_lexer": "ipython3",
   "version": "3.10.12"
  }
 },
 "nbformat": 4,
 "nbformat_minor": 5
}
