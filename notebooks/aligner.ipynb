{
 "cells": [
  {
   "cell_type": "markdown",
   "id": "e3c32ff6",
   "metadata": {},
   "source": [
    "# 🧬 Aligner Search\n",
    "Purpose: Execute alignment-based search across all configured databases, using multiprocessing and exporting the results to the selected file format."
   ]
  },
  {
   "cell_type": "code",
   "execution_count": 1,
   "id": "d7d1e3a8",
   "metadata": {},
   "outputs": [],
   "source": [
    "import pandas as pd\n",
    "import numpy as np\n",
    "\n",
    "from Database_comparator import db_compare"
   ]
  },
  {
   "cell_type": "markdown",
   "id": "66500fbd",
   "metadata": {},
   "source": [
    "## ⚙️ Configuration"
   ]
  },
  {
   "cell_type": "code",
   "execution_count": null,
   "id": "8fa8a7d5",
   "metadata": {},
   "outputs": [],
   "source": [
    "CONFIG_FILE = \"_DefaultConfigFile.xlsx\" # Path to the configuration file containing database connection details\n",
    "OUTPUT_FILE = \"Outputs/aligner_out.csv\" # Path to the output file where results will be saved\n",
    "OUTPUT_FORMAT = \"csv\"  # Output format can be 'csv','xlsx', 'tsv' or 'md'"
   ]
  },
  {
   "cell_type": "markdown",
   "id": "52cf3e2e",
   "metadata": {},
   "source": [
    "## 🔍 Run Aligner Search"
   ]
  },
  {
   "cell_type": "code",
   "execution_count": null,
   "id": "1d60538b",
   "metadata": {},
   "outputs": [],
   "source": [
    "db = db_compare.DB_comparator(CONFIG_FILE)\n",
    "db.aligner.aligner_search_in_all_databases(parallel=True) # Multiprocessing enabled (parallel=True)"
   ]
  },
  {
   "cell_type": "markdown",
   "id": "e2425ba5",
   "metadata": {},
   "source": [
    "## 📤 Export and Display Results"
   ]
  },
  {
   "cell_type": "code",
   "execution_count": 4,
   "id": "299ed842",
   "metadata": {},
   "outputs": [
    {
     "data": {
      "text/html": [
       "<div>\n",
       "<style scoped>\n",
       "    .dataframe tbody tr th:only-of-type {\n",
       "        vertical-align: middle;\n",
       "    }\n",
       "\n",
       "    .dataframe tbody tr th {\n",
       "        vertical-align: top;\n",
       "    }\n",
       "\n",
       "    .dataframe thead th {\n",
       "        text-align: right;\n",
       "    }\n",
       "</style>\n",
       "<table border=\"1\" class=\"dataframe\">\n",
       "  <thead>\n",
       "    <tr style=\"text-align: right;\">\n",
       "      <th></th>\n",
       "      <th>sequence</th>\n",
       "      <th>info</th>\n",
       "      <th>Databases/test_database.csv</th>\n",
       "    </tr>\n",
       "  </thead>\n",
       "  <tbody>\n",
       "    <tr>\n",
       "      <th>0</th>\n",
       "      <td>CPTGGAQGKHIPQSF</td>\n",
       "      <td>62</td>\n",
       "      <td>[seq: CPTGGAQGKHIPQSF (Value_identifier: 8) (T...</td>\n",
       "    </tr>\n",
       "    <tr>\n",
       "      <th>1</th>\n",
       "      <td>CKASIPQGTHGGQPF</td>\n",
       "      <td>6</td>\n",
       "      <td>[seq: CKASIPQGTHGGQPF (Value_identifier: 10) (...</td>\n",
       "    </tr>\n",
       "    <tr>\n",
       "      <th>2</th>\n",
       "      <td>CPIQGHPASQGGKTF</td>\n",
       "      <td>83</td>\n",
       "      <td>[seq: CPIQGHPASQGGKTF (Value_identifier: 16) (...</td>\n",
       "    </tr>\n",
       "    <tr>\n",
       "      <th>3</th>\n",
       "      <td>CATGIHGQSQPKPGF</td>\n",
       "      <td>22</td>\n",
       "      <td>[seq: CATGIHGQSQPKPGF (Value_identifier: 20) (...</td>\n",
       "    </tr>\n",
       "    <tr>\n",
       "      <th>4</th>\n",
       "      <td>CPKTGQQSAHGGPIF</td>\n",
       "      <td>73</td>\n",
       "      <td>[seq: CPKTGQQSAHGGPIF (Value_identifier: 16) (...</td>\n",
       "    </tr>\n",
       "    <tr>\n",
       "      <th>...</th>\n",
       "      <td>...</td>\n",
       "      <td>...</td>\n",
       "      <td>...</td>\n",
       "    </tr>\n",
       "    <tr>\n",
       "      <th>95</th>\n",
       "      <td>CQHQTAPKIPSGGGF</td>\n",
       "      <td>38</td>\n",
       "      <td>[seq: CQHQTAPKIPSGGGF (Value_identifier: 388) ...</td>\n",
       "    </tr>\n",
       "    <tr>\n",
       "      <th>96</th>\n",
       "      <td>CQKPPGTGGHQISAF</td>\n",
       "      <td>50</td>\n",
       "      <td>[seq: CQKPPGTGGHQISAF (Value_identifier: 392) ...</td>\n",
       "    </tr>\n",
       "    <tr>\n",
       "      <th>97</th>\n",
       "      <td>CQGAIHSKGQPTGPF</td>\n",
       "      <td>50</td>\n",
       "      <td>[seq: CQGAIHSKGQPTGPF (Value_identifier: 396) ...</td>\n",
       "    </tr>\n",
       "    <tr>\n",
       "      <th>98</th>\n",
       "      <td>CGGTPQSQHAIPKGF</td>\n",
       "      <td>43</td>\n",
       "      <td>[seq: CGGTPQSQHAIPKGF (Value_identifier: 400) ...</td>\n",
       "    </tr>\n",
       "    <tr>\n",
       "      <th>99</th>\n",
       "      <td>CGKHQAPPTQGSGIF</td>\n",
       "      <td>6</td>\n",
       "      <td>[seq: CGKHQAPPTQGSGIF (Value_identifier: 400) ...</td>\n",
       "    </tr>\n",
       "  </tbody>\n",
       "</table>\n",
       "<p>100 rows × 3 columns</p>\n",
       "</div>"
      ],
      "text/plain": [
       "           sequence  info                        Databases/test_database.csv\n",
       "0   CPTGGAQGKHIPQSF    62  [seq: CPTGGAQGKHIPQSF (Value_identifier: 8) (T...\n",
       "1   CKASIPQGTHGGQPF     6  [seq: CKASIPQGTHGGQPF (Value_identifier: 10) (...\n",
       "2   CPIQGHPASQGGKTF    83  [seq: CPIQGHPASQGGKTF (Value_identifier: 16) (...\n",
       "3   CATGIHGQSQPKPGF    22  [seq: CATGIHGQSQPKPGF (Value_identifier: 20) (...\n",
       "4   CPKTGQQSAHGGPIF    73  [seq: CPKTGQQSAHGGPIF (Value_identifier: 16) (...\n",
       "..              ...   ...                                                ...\n",
       "95  CQHQTAPKIPSGGGF    38  [seq: CQHQTAPKIPSGGGF (Value_identifier: 388) ...\n",
       "96  CQKPPGTGGHQISAF    50  [seq: CQKPPGTGGHQISAF (Value_identifier: 392) ...\n",
       "97  CQGAIHSKGQPTGPF    50  [seq: CQGAIHSKGQPTGPF (Value_identifier: 396) ...\n",
       "98  CGGTPQSQHAIPKGF    43  [seq: CGGTPQSQHAIPKGF (Value_identifier: 400) ...\n",
       "99  CGKHQAPPTQGSGIF     6  [seq: CGKHQAPPTQGSGIF (Value_identifier: 400) ...\n",
       "\n",
       "[100 rows x 3 columns]"
      ]
     },
     "metadata": {},
     "output_type": "display_data"
    }
   ],
   "source": [
    "db.export_data_frame(output_file=OUTPUT_FILE, data_format=OUTPUT_FORMAT)\n",
    "display(pd.read_csv(OUTPUT_FILE)) "
   ]
  }
 ],
 "metadata": {
  "kernelspec": {
   "display_name": "venv",
   "language": "python",
   "name": "python3"
  },
  "language_info": {
   "codemirror_mode": {
    "name": "ipython",
    "version": 3
   },
   "file_extension": ".py",
   "mimetype": "text/x-python",
   "name": "python",
   "nbconvert_exporter": "python",
   "pygments_lexer": "ipython3",
   "version": "3.10.12"
  }
 },
 "nbformat": 4,
 "nbformat_minor": 5
}
