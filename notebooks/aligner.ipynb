{
 "cells": [
  {
   "cell_type": "markdown",
   "id": "e3c32ff6",
   "metadata": {},
   "source": [
    "# 🧬 Aligner Search\n",
    "Purpose: Execute alignment-based search across all configured databases, using multiprocessing and exporting the results to the selected file format."
   ]
  },
  {
   "cell_type": "code",
   "execution_count": null,
   "id": "d7d1e3a8",
   "metadata": {},
   "outputs": [],
   "source": [
    "import pandas as pd\n",
    "import numpy as np\n",
    "\n",
    "from Database_comparator import db_compare"
   ]
  },
  {
   "cell_type": "markdown",
   "id": "66500fbd",
   "metadata": {},
   "source": [
    "## ⚙️ Configuration"
   ]
  },
  {
   "cell_type": "code",
   "execution_count": 2,
   "id": "8fa8a7d5",
   "metadata": {},
   "outputs": [],
   "source": [
    "CONFIG_FILE = \"_DEFAULT_SIMPLE_config_file.xlsx\" # Path to the configuration file containing database connection details\n",
    "OUTPUT_FILE = \"aligner_out.csv\" # Path to the output file where results will be saved\n",
    "OUTPUT_FORMAT = \"csv\"  # Output format can be 'csv','xlsx', 'tsv' or 'md'\n",
    "\n",
    "QUERY_FILE = \"test_query.xlsx\" # Path to the file containing query sequences\n",
    "QUERY_SEQUENCE_COLUMN = \"sequence\"  # Column name in the query file that contains sequences\n",
    "\n",
    "NUMBER_OF_PROCESSORS = 3  # Number of processors to use for parallel processing\n",
    "INDEX_OF_DATABASE_TO_SEARCH = 0  # Index of the database to search against (0-based index) - Check config file for available databases"
   ]
  },
  {
   "cell_type": "markdown",
   "id": "b33cd8c4",
   "metadata": {},
   "source": [
    "## 🔧 Advanced Configuration\n",
    "Warning ⚠️: Advanced configuration options. Please refer to the documentation for detailed information. This settings are optional and can be omitted for standard use cases. Those values **will rewrite** the values in the config file."
   ]
  },
  {
   "cell_type": "code",
   "execution_count": null,
   "id": "2bd17067",
   "metadata": {},
   "outputs": [],
   "source": [
    "configuration_dict = {\n",
    "    # Database connection details\n",
    "    \"Query_path\": QUERY_FILE, # Path to the query database file\n",
    "    \"Query_sequence_column\": QUERY_SEQUENCE_COLUMN, # Column name in the query database containing sequences\n",
    "\n",
    "    # Number of processors to use for parallel processing\n",
    "    \"Number_of_processors\": NUMBER_OF_PROCESSORS,\n",
    "\n",
    "    # Aligner settings\n",
    "    \"Aligner_tolerance\": 0.9, # Tolerance for the aligner (0 to 1) - higher means more similar\n",
    "    \"Aligner_gap_score\": -1000, # Penalty for gaps in the alignment\n",
    "    \"Aligner_mismatch_score\": -1, # Penalty for mismatches in the alignment\n",
    "    \"Aligner_match_score\": 2, # Score for matches in the alignment\n",
    "    \"Aligner_matrix\": None, # Scoring matrix to use for alignment (e.g., BLOSUM62, PAM250) or None for using match/mismatch scores\n",
    "    \"Aligner_mode\": \"global\", # Alignment mode: 'global' or 'local'\n",
    "    \n",
    "}"
   ]
  },
  {
   "cell_type": "markdown",
   "id": "0838973b",
   "metadata": {},
   "source": [
    "## 🧪 Testing"
   ]
  },
  {
   "cell_type": "code",
   "execution_count": 4,
   "id": "3afb6385",
   "metadata": {},
   "outputs": [
    {
     "name": "stdout",
     "output_type": "stream",
     "text": [
      "╒════════════════════════╤════════════╤═══════════════════╤══════════════════════╕\n",
      "│ Test Name              │ Status     │ File Comparison   │   Execution Time (s) │\n",
      "╞════════════════════════╪════════════╪═══════════════════╪══════════════════════╡\n",
      "│ Initialization Test    │ ✅ Success │ N/A               │                 0.55 │\n",
      "├────────────────────────┼────────────┼───────────────────┼──────────────────────┤\n",
      "│ Exporting Test         │ ✅ Success │ N/A               │                 0.12 │\n",
      "├────────────────────────┼────────────┼───────────────────┼──────────────────────┤\n",
      "│ Exact Match Test       │ ✅ Success │ ✅ Match          │                 0.09 │\n",
      "├────────────────────────┼────────────┼───────────────────┼──────────────────────┤\n",
      "│ Hamming Distances Test │ ✅ Success │ ✅ Match          │                 5.22 │\n",
      "├────────────────────────┼────────────┼───────────────────┼──────────────────────┤\n",
      "│ Aligner Test           │ ✅ Success │ ✅ Match          │                 1.26 │\n",
      "├────────────────────────┼────────────┼───────────────────┼──────────────────────┤\n",
      "│ BLAST Test             │ ✅ Success │ ✅ Match          │                 2.07 │\n",
      "╘════════════════════════╧════════════╧═══════════════════╧══════════════════════╛\n",
      "\n",
      "--------------------------------------------------\n",
      "General Configuration:\n",
      "\n",
      "Input file path: test_query.xlsx\n",
      "Input file info: {'path': 'test_query.xlsx', 'sequence_column_name': 'sequence', 'starting_row': 0}\n",
      "Separator of results in input df: \n",
      "\n",
      "--------------------------------------------------\n",
      "Database Information:\n",
      "\n",
      "Database index 0:\n",
      "  path: Databases/test_database.csv\n",
      "  sequence_column_name: sequence\n",
      "  results_column: Databases/test_database.csv\n",
      "  identifier_of_seq: ['Value_identifier', 'Text_identifier']\n",
      "Database index 1:\n",
      "  path: Databases/test_database.csv\n",
      "  sequence_column_name: sequence\n",
      "  results_column: Databases/test_database.csv\n",
      "  identifier_of_seq: ['Value_identifier', 'Text_identifier']\n",
      "Database index 2:\n",
      "  path: Databases/test_database.csv\n",
      "  sequence_column_name: sequence\n",
      "  results_column: Databases/test_database.csv\n",
      "  identifier_of_seq: ['Value_identifier', 'Text_identifier']\n",
      "--------------------------------------------------\n",
      "Alignment Settings:\n",
      "\n",
      "Aligner: Pairwise sequence aligner with parameters\n",
      "  wildcard: None\n",
      "  match_score: 2.000000\n",
      "  mismatch_score: -1.000000\n",
      "  target_internal_open_gap_score: -1000.000000\n",
      "  target_internal_extend_gap_score: -1000.000000\n",
      "  target_left_open_gap_score: -1000.000000\n",
      "  target_left_extend_gap_score: -1000.000000\n",
      "  target_right_open_gap_score: -1000.000000\n",
      "  target_right_extend_gap_score: -1000.000000\n",
      "  query_internal_open_gap_score: -1000.000000\n",
      "  query_internal_extend_gap_score: -1000.000000\n",
      "  query_left_open_gap_score: -1000.000000\n",
      "  query_left_extend_gap_score: -1000.000000\n",
      "  query_right_open_gap_score: -1000.000000\n",
      "  query_right_extend_gap_score: -1000.000000\n",
      "  mode: global\n",
      "\n",
      "Tolerance: 0.9\n",
      "--------------------------------------------------\n",
      "BLAST Settings:\n",
      "\n",
      "E-value: 0.05\n",
      "BLAST database name: blast_db\n",
      "BLAST output name: blast_output.txt\n",
      "BLAST database full name: BLAST_database//blast_db\n",
      "BLAST default input query: Query_files//QUERY.fasta\n",
      "BLAST output format: 6 qseqid sseqid qseq sseq bitscore score\n",
      "--------------------------------------------------\n",
      "Hamming Distance:\n",
      "\n",
      "Max hamming distance: 3\n",
      "--------------------------------------------------\n",
      "Performance Settings:\n",
      "\n",
      "Number of processors: 3\n",
      "--------------------------------------------------\n",
      "Input Data:\n",
      "\n",
      "DataFrame:            sequence  info  Databases/test_database.csv\n",
      "0   CPTGGAQGKHIPQSF    62                          NaN\n",
      "1   CKASIPQGTHGGQPF     6                          NaN\n",
      "2   CPIQGHPASQGGKTF    83                          NaN\n",
      "3   CATGIHGQSQPKPGF    22                          NaN\n",
      "4   CPKTGQQSAHGGPIF    73                          NaN\n",
      "..              ...   ...                          ...\n",
      "95  CQHQTAPKIPSGGGF    38                          NaN\n",
      "96  CQKPPGTGGHQISAF    50                          NaN\n",
      "97  CQGAIHSKGQPTGPF    50                          NaN\n",
      "98  CGGTPQSQHAIPKGF    43                          NaN\n",
      "99  CGKHQAPPTQGSGIF     6                          NaN\n",
      "\n",
      "[100 rows x 3 columns]\n"
     ]
    }
   ],
   "source": [
    "db = db_compare.DB_comparator(config_file=CONFIG_FILE, log_tag=\"Aligner\", log_project=\"Aligner Project\", configuration_dict=configuration_dict)\n",
    "db.test.start()\n",
    "print(db)"
   ]
  },
  {
   "cell_type": "markdown",
   "id": "52cf3e2e",
   "metadata": {},
   "source": [
    "## 🔍 Run Aligner Search\n",
    "Run the search on the database with the specified index. Check the config file for available databases. If you want to search all databases, uncomment the line below."
   ]
  },
  {
   "cell_type": "code",
   "execution_count": 16,
   "id": "1d60538b",
   "metadata": {},
   "outputs": [],
   "source": [
    "db.aligner.aligner_search_in_single_database(database_index=INDEX_OF_DATABASE_TO_SEARCH, parallel=True) # Multiprocessing enabled (parallel=True)\n",
    "\n",
    "# If you want to search all databases, uncomment the line below and comment the line above\n",
    "# db.aligner.aligner_search_in_all_databases(parallel=True) # Multiprocessing enabled (parallel=True)"
   ]
  },
  {
   "cell_type": "markdown",
   "id": "e2425ba5",
   "metadata": {},
   "source": [
    "## 📤 Export and Display Results"
   ]
  },
  {
   "cell_type": "code",
   "execution_count": 17,
   "id": "299ed842",
   "metadata": {},
   "outputs": [
    {
     "data": {
      "application/vnd.microsoft.datawrangler.viewer.v0+json": {
       "columns": [
        {
         "name": "index",
         "rawType": "int64",
         "type": "integer"
        },
        {
         "name": "sequence",
         "rawType": "object",
         "type": "string"
        },
        {
         "name": "info",
         "rawType": "int64",
         "type": "integer"
        },
        {
         "name": "Databases/test_database.csv",
         "rawType": "object",
         "type": "string"
        }
       ],
       "ref": "96dbf176-7c39-4ddc-9daf-c0d895d9620b",
       "rows": [
        [
         "0",
         "CPTGGAQGKHIPQSF",
         "62",
         "[seq: CPTGGAQGKHIPQSF (Value_identifier: 8) (Text_identifier: A)]\n[seq: CPTAGAQGKHIPQSF (Value_identifier: 8) (Text_identifier: A)]\n"
        ],
        [
         "1",
         "CKASIPQGTHGGQPF",
         "6",
         "[seq: CKASIPQGTHGGQPF (Value_identifier: 10) (Text_identifier: C)]\n[seq: CKASIPQGTHGGQPF (Value_identifier: 12) (Text_identifier: C)]\n"
        ],
        [
         "2",
         "CPIQGHPASQGGKTF",
         "83",
         "[seq: CPIQGHPASQGGKTF (Value_identifier: 16) (Text_identifier: A)]\n[seq: CPIQGHPASQGGKTF (Value_identifier: 12) (Text_identifier: A)]\n"
        ],
        [
         "3",
         "CATGIHGQSQPKPGF",
         "22",
         "[seq: CATGIHGQSQPKPGF (Value_identifier: 20) (Text_identifier: C)]\n[seq: CATGIHGQSQPKPGF (Value_identifier: 14) (Text_identifier: A)]\n"
        ],
        [
         "4",
         "CPKTGQQSAHGGPIF",
         "73",
         "[seq: CPKTGQQSAHGGPIF (Value_identifier: 16) (Text_identifier: A)]\n[seq: CPKTGQQSAHGGPIF (Value_identifier: 24) (Text_identifier: A)]\n"
        ],
        [
         "5",
         "CPQPGGKIAQGHSTF",
         "43",
         "[seq: CPQPGGKIAQGHSTF (Value_identifier: 18) (Text_identifier: C)]\n[seq: CPQPGGKIAQGHSTF (Value_identifier: 28) (Text_identifier: B)]\n"
        ],
        [
         "6",
         "CPGISPQGAKTQHGF",
         "7",
         "[seq: CPGISPQGAKTQHGF (Value_identifier: 20) (Text_identifier: A)]\n[seq: CPGISPQGAKTQHGF (Value_identifier: 32) (Text_identifier: B)]\n"
        ],
        [
         "7",
         "CQPQHPKTGGGIASF",
         "92",
         "[seq: CQPQHPKTGGGIASF (Value_identifier: 36) (Text_identifier: E)]\n[seq: CQPQHPKTGGGIASF (Value_identifier: 22) (Text_identifier: A)]\n"
        ],
        [
         "8",
         "CGKSQGPQGPAHITF",
         "9",
         "[seq: CGKSQGPQGPAHITF (Value_identifier: 40) (Text_identifier: A)]\n[seq: CGKSQGPQGPAHITF (Value_identifier: 24) (Text_identifier: A)]\n"
        ],
        [
         "9",
         "CTGGPSIHPQAKQGF",
         "77",
         "[seq: CTGGPSIHPQAKQGF (Value_identifier: 44) (Text_identifier: A)]\n"
        ],
        [
         "10",
         "CITHGAGPPSQGKQF",
         "30",
         "[seq: CITHGAGPPSQGKQF (Value_identifier: 48) (Text_identifier: C)]\n"
        ],
        [
         "11",
         "CPHQQGGIASTKGPF",
         "68",
         "[seq: CPHQQGGIASTKGPF (Value_identifier: 52) (Text_identifier: A)]\n"
        ],
        [
         "12",
         "CIGSQPGPHKTQGAF",
         "29",
         "[seq: CIGAQPGPGSTQKHF (Value_identifier: 70) (Text_identifier: B)]\n[seq: CIGSQPGPHKTQGAF (Value_identifier: 56) (Text_identifier: C)]\n"
        ],
        [
         "13",
         "CGKSPHATPQIGGQF",
         "52",
         "[seq: CGKSPHATPQIGGQF (Value_identifier: 60) (Text_identifier: A)]\n"
        ],
        [
         "14",
         "CTQSKIGQAGHPGPF",
         "69",
         "[seq: CTQSKIGQAGHPGPF (Value_identifier: 64) (Text_identifier: B)]\n"
        ],
        [
         "15",
         "CGPASTHIQQPGGKF",
         "43",
         "[seq: CGPASTHIQQPGGKF (Value_identifier: 68) (Text_identifier: B)]\n"
        ],
        [
         "16",
         "CGIKQTSGAHGPPQF",
         "25",
         "[seq: CGIKQTSGAHGPPQF (Value_identifier: 72) (Text_identifier: E)]\n[seq: CGIKQTSGAHGPPQF (Value_identifier: 26) (Text_identifier: C)]\n[seq: CIQKQTSGPHGGPAF (Value_identifier: 42) (Text_identifier: B)]\n"
        ],
        [
         "17",
         "CITGSHGPQQGKAPF",
         "11",
         "[seq: CITGSHGPQQGKAPF (Value_identifier: 76) (Text_identifier: A)]\n[seq: CITGSHGPQQGKAPF (Value_identifier: 28) (Text_identifier: A)]\n"
        ],
        [
         "18",
         "CTGSPGPHAQKQIGF",
         "14",
         "[seq: CTGSPGPHAQKQIGF (Value_identifier: 30) (Text_identifier: A)]\n[seq: CTGSPGPHAQKQIGF (Value_identifier: 80) (Text_identifier: A)]\n"
        ],
        [
         "19",
         "CPQHGGISTPKQGAF",
         "42",
         "[seq: CPQHGGISTPKQGAF (Value_identifier: 32) (Text_identifier: A)]\n[seq: CPQHGGISTPKQGAF (Value_identifier: 84) (Text_identifier: C)]\n"
        ],
        [
         "20",
         "CGQPGTQIGSAKPHF",
         "46",
         "[seq: CGQPGTQIGSAKPHF (Value_identifier: 34) (Text_identifier: C)]\n[seq: CGQPGTQIGSAKPHF (Value_identifier: 88) (Text_identifier: A)]\n"
        ],
        [
         "21",
         "CQPQKGPASTIGHGF",
         "69",
         "[seq: CQPQKGPASTIGHGF (Value_identifier: 92) (Text_identifier: C)]\n[seq: CQPQKGPASTIGHGF (Value_identifier: 36) (Text_identifier: A)]\n"
        ],
        [
         "22",
         "CKQGPSGPTHAQGIF",
         "48",
         "[seq: CKQGPSGPTKAQGIF (Value_identifier: 16) (Text_identifier: C)]\n[seq: CKQGPSGPTHAQGIF (Value_identifier: 96) (Text_identifier: A)]\n[seq: CKQGPSGPTHAQGIF (Value_identifier: 38) (Text_identifier: A)]\n[seq: CKQGHSGPTGAQPIF (Value_identifier: 18) (Text_identifier: C)]\n"
        ],
        [
         "23",
         "CAPQQTPGSIKHGGF",
         "19",
         "[seq: CAPQQTPGSIKHGGF (Value_identifier: 40) (Text_identifier: A)]\n[seq: CAPQQTPGSIKHGGF (Value_identifier: 100) (Text_identifier: B)]\n"
        ],
        [
         "24",
         "CHPIQPKGTAGQGSF",
         "91",
         "[seq: CHPIQPKGTAGQGSF (Value_identifier: 104) (Text_identifier: B)]\n[seq: CHPIQPKGTAGQGSF (Value_identifier: 41) (Text_identifier: E)]\n"
        ],
        [
         "25",
         "CKIPGQPSQHGGATF",
         "55",
         "[seq: CKIPGQPSQHGGATF (Value_identifier: 108) (Text_identifier: E)]\n"
        ],
        [
         "26",
         "CAQGQPKPGHTGISF",
         "51",
         "[seq: CAQGQPKPGHTGISF (Value_identifier: 112) (Text_identifier: A)]\n[seq: CAKGQPTPGQGHISF (Value_identifier: 99) (Text_identifier: A)]\n"
        ],
        [
         "27",
         "CGGPTSQHKPAQGIF",
         "34",
         "[seq: CGGPTSQHKPAQGIF (Value_identifier: 116) (Text_identifier: A)]\n"
        ],
        [
         "28",
         "CPAGPKQITQSGGHF",
         "85",
         "[seq: CPAGPKQITQSGGHF (Value_identifier: 120) (Text_identifier: C)]\n"
        ],
        [
         "29",
         "CGPPGQAHSGTQIKF",
         "34",
         "[seq: CGPPGQAHSGTQIKF (Value_identifier: 124) (Text_identifier: A)]\n"
        ],
        [
         "30",
         "CGHGAGPIQQKTPSF",
         "64",
         "[seq: CGHGAGPIQQKTPSF (Value_identifier: 128) (Text_identifier: C)]\n[seq: CGGHAGPIQQSTKPF (Value_identifier: 75) (Text_identifier: A)]\n"
        ],
        [
         "31",
         "CIGPQAHQTGPKGSF",
         "84",
         "[seq: CIGPQAHQTGPKGSF (Value_identifier: 132) (Text_identifier: A)]\n"
        ],
        [
         "32",
         "CQHGPIKSGTGPAQF",
         "66",
         "[seq: CQHGPIKSGTGPAQF (Value_identifier: 136) (Text_identifier: B)]\n"
        ],
        [
         "33",
         "CKTGHSIGPQAPGQF",
         "73",
         "[seq: CKTGHSIGPQAPGQF (Value_identifier: 140) (Text_identifier: B)]\n"
        ],
        [
         "34",
         "CQTQPGKGIHSGAPF",
         "76",
         "[seq: CQTQPGKGIHSGAPF (Value_identifier: 144) (Text_identifier: E)]\n"
        ],
        [
         "35",
         "CSGQAPHPGKGQTIF",
         "72",
         "[seq: CSGQAPHPGKGQTIF (Value_identifier: 148) (Text_identifier: A)]\n"
        ],
        [
         "36",
         "CHKTGGPPSQAQGIF",
         "10",
         "[seq: CHKTGGPPSQAQGIF (Value_identifier: 152) (Text_identifier: A)]\n"
        ],
        [
         "37",
         "CQGSPIGQGATPKHF",
         "20",
         "[seq: CQGSPIGQGATPKHF (Value_identifier: 156) (Text_identifier: C)]\n"
        ],
        [
         "38",
         "CGGQKSQTIPGPAHF",
         "60",
         "[seq: CGGQKSQTIPGPAHF (Value_identifier: 160) (Text_identifier: A)]\n"
        ],
        [
         "39",
         "CTQASHGPPQKGIGF",
         "67",
         "[seq: CKQASGGHPQTGIPF (Value_identifier: 72) (Text_identifier: A)]\n[seq: CTQASHGPPQKGIGF (Value_identifier: 164) (Text_identifier: C)]\n"
        ],
        [
         "40",
         "CKSTGAQHGPPIGQF",
         "71",
         "[seq: CKSTGAQHGPPIGQF (Value_identifier: 168) (Text_identifier: A)]\n"
        ],
        [
         "41",
         "CSPQHAQGIGTPGKF",
         "30",
         "[seq: CSPQHAQGIGTPGKF (Value_identifier: 172) (Text_identifier: B)]\n"
        ],
        [
         "42",
         "CPKISTHQQPGAGGF",
         "11",
         "[seq: CPKISTHQQPGAGGF (Value_identifier: 176) (Text_identifier: B)]\n"
        ],
        [
         "43",
         "CKHSGGPIAQQPGTF",
         "46",
         "[seq: CKHSGGPIAQQPGTF (Value_identifier: 180) (Text_identifier: E)]\n"
        ],
        [
         "44",
         "CSAPPQGGGTIHQKF",
         "73",
         "[seq: CSAPPQGGGTIHQKF (Value_identifier: 184) (Text_identifier: A)]\n"
        ],
        [
         "45",
         "CKTQSAIHGPQGPGF",
         "23",
         "[seq: CKTQSAIHGPQGPGF (Value_identifier: 188) (Text_identifier: A)]\n"
        ],
        [
         "46",
         "CHGSQTPGGPIQKAF",
         "6",
         "[seq: CHGSQTPGGPIQKAF (Value_identifier: 192) (Text_identifier: C)]\n"
        ],
        [
         "47",
         "CSGGQPGPAKTHIQF",
         "45",
         "[seq: CSGGQPGPAKTHIQF (Value_identifier: 196) (Text_identifier: A)]\n"
        ],
        [
         "48",
         "CAKGQGPQPIHSGTF",
         "58",
         "[seq: CAKGQGPQPIHSGTF (Value_identifier: 200) (Text_identifier: C)]\n"
        ],
        [
         "49",
         "CHGKGITPQAGSPQF",
         "12",
         "[seq: CHGKGITPQAGSPQF (Value_identifier: 204) (Text_identifier: A)]\n"
        ]
       ],
       "shape": {
        "columns": 3,
        "rows": 100
       }
      },
      "text/html": [
       "<div>\n",
       "<style scoped>\n",
       "    .dataframe tbody tr th:only-of-type {\n",
       "        vertical-align: middle;\n",
       "    }\n",
       "\n",
       "    .dataframe tbody tr th {\n",
       "        vertical-align: top;\n",
       "    }\n",
       "\n",
       "    .dataframe thead th {\n",
       "        text-align: right;\n",
       "    }\n",
       "</style>\n",
       "<table border=\"1\" class=\"dataframe\">\n",
       "  <thead>\n",
       "    <tr style=\"text-align: right;\">\n",
       "      <th></th>\n",
       "      <th>sequence</th>\n",
       "      <th>info</th>\n",
       "      <th>Databases/test_database.csv</th>\n",
       "    </tr>\n",
       "  </thead>\n",
       "  <tbody>\n",
       "    <tr>\n",
       "      <th>0</th>\n",
       "      <td>CPTGGAQGKHIPQSF</td>\n",
       "      <td>62</td>\n",
       "      <td>[seq: CPTGGAQGKHIPQSF (Value_identifier: 8) (T...</td>\n",
       "    </tr>\n",
       "    <tr>\n",
       "      <th>1</th>\n",
       "      <td>CKASIPQGTHGGQPF</td>\n",
       "      <td>6</td>\n",
       "      <td>[seq: CKASIPQGTHGGQPF (Value_identifier: 10) (...</td>\n",
       "    </tr>\n",
       "    <tr>\n",
       "      <th>2</th>\n",
       "      <td>CPIQGHPASQGGKTF</td>\n",
       "      <td>83</td>\n",
       "      <td>[seq: CPIQGHPASQGGKTF (Value_identifier: 16) (...</td>\n",
       "    </tr>\n",
       "    <tr>\n",
       "      <th>3</th>\n",
       "      <td>CATGIHGQSQPKPGF</td>\n",
       "      <td>22</td>\n",
       "      <td>[seq: CATGIHGQSQPKPGF (Value_identifier: 20) (...</td>\n",
       "    </tr>\n",
       "    <tr>\n",
       "      <th>4</th>\n",
       "      <td>CPKTGQQSAHGGPIF</td>\n",
       "      <td>73</td>\n",
       "      <td>[seq: CPKTGQQSAHGGPIF (Value_identifier: 16) (...</td>\n",
       "    </tr>\n",
       "    <tr>\n",
       "      <th>...</th>\n",
       "      <td>...</td>\n",
       "      <td>...</td>\n",
       "      <td>...</td>\n",
       "    </tr>\n",
       "    <tr>\n",
       "      <th>95</th>\n",
       "      <td>CQHQTAPKIPSGGGF</td>\n",
       "      <td>38</td>\n",
       "      <td>[seq: CQHQTAPKIPSGGGF (Value_identifier: 388) ...</td>\n",
       "    </tr>\n",
       "    <tr>\n",
       "      <th>96</th>\n",
       "      <td>CQKPPGTGGHQISAF</td>\n",
       "      <td>50</td>\n",
       "      <td>[seq: CQKPPGTGGHQISAF (Value_identifier: 392) ...</td>\n",
       "    </tr>\n",
       "    <tr>\n",
       "      <th>97</th>\n",
       "      <td>CQGAIHSKGQPTGPF</td>\n",
       "      <td>50</td>\n",
       "      <td>[seq: CQGAIHSKGQPTGPF (Value_identifier: 396) ...</td>\n",
       "    </tr>\n",
       "    <tr>\n",
       "      <th>98</th>\n",
       "      <td>CGGTPQSQHAIPKGF</td>\n",
       "      <td>43</td>\n",
       "      <td>[seq: CGGTPQSQHAIPKGF (Value_identifier: 400) ...</td>\n",
       "    </tr>\n",
       "    <tr>\n",
       "      <th>99</th>\n",
       "      <td>CGKHQAPPTQGSGIF</td>\n",
       "      <td>6</td>\n",
       "      <td>[seq: CGKHQAPPTQGSGIF (Value_identifier: 400) ...</td>\n",
       "    </tr>\n",
       "  </tbody>\n",
       "</table>\n",
       "<p>100 rows × 3 columns</p>\n",
       "</div>"
      ],
      "text/plain": [
       "           sequence  info                        Databases/test_database.csv\n",
       "0   CPTGGAQGKHIPQSF    62  [seq: CPTGGAQGKHIPQSF (Value_identifier: 8) (T...\n",
       "1   CKASIPQGTHGGQPF     6  [seq: CKASIPQGTHGGQPF (Value_identifier: 10) (...\n",
       "2   CPIQGHPASQGGKTF    83  [seq: CPIQGHPASQGGKTF (Value_identifier: 16) (...\n",
       "3   CATGIHGQSQPKPGF    22  [seq: CATGIHGQSQPKPGF (Value_identifier: 20) (...\n",
       "4   CPKTGQQSAHGGPIF    73  [seq: CPKTGQQSAHGGPIF (Value_identifier: 16) (...\n",
       "..              ...   ...                                                ...\n",
       "95  CQHQTAPKIPSGGGF    38  [seq: CQHQTAPKIPSGGGF (Value_identifier: 388) ...\n",
       "96  CQKPPGTGGHQISAF    50  [seq: CQKPPGTGGHQISAF (Value_identifier: 392) ...\n",
       "97  CQGAIHSKGQPTGPF    50  [seq: CQGAIHSKGQPTGPF (Value_identifier: 396) ...\n",
       "98  CGGTPQSQHAIPKGF    43  [seq: CGGTPQSQHAIPKGF (Value_identifier: 400) ...\n",
       "99  CGKHQAPPTQGSGIF     6  [seq: CGKHQAPPTQGSGIF (Value_identifier: 400) ...\n",
       "\n",
       "[100 rows x 3 columns]"
      ]
     },
     "metadata": {},
     "output_type": "display_data"
    }
   ],
   "source": [
    "db.export_data_frame(output_file=OUTPUT_FILE, data_format=OUTPUT_FORMAT)\n",
    "display(pd.read_csv(OUTPUT_FILE)) "
   ]
  }
 ],
 "metadata": {
  "kernelspec": {
   "display_name": "Python 3",
   "language": "python",
   "name": "python3"
  },
  "language_info": {
   "codemirror_mode": {
    "name": "ipython",
    "version": 3
   },
   "file_extension": ".py",
   "mimetype": "text/x-python",
   "name": "python",
   "nbconvert_exporter": "python",
   "pygments_lexer": "ipython3",
   "version": "3.11.5"
  }
 },
 "nbformat": 4,
 "nbformat_minor": 5
}
