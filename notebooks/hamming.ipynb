{
 "cells": [
  {
   "cell_type": "markdown",
   "id": "e23ef20f",
   "metadata": {},
   "source": [
    "# 🧬 Hamming Distance Search\n",
    "Purpose: Compute Hamming distances between query sequences and all entries in the configured databases, using parallel processing and exporting the results."
   ]
  },
  {
   "cell_type": "code",
   "execution_count": 6,
   "id": "c668e838",
   "metadata": {},
   "outputs": [],
   "source": [
    "import pandas as pd\n",
    "import numpy as np\n",
    "\n",
    "from Database_comparator import db_compare"
   ]
  },
  {
   "cell_type": "markdown",
   "id": "b8a514a6",
   "metadata": {},
   "source": [
    "## ⚙️ Configuration"
   ]
  },
  {
   "cell_type": "code",
   "execution_count": null,
   "id": "6d66893c",
   "metadata": {},
   "outputs": [],
   "source": [
    "CONFIG_FILE = \"_DEFAULT_SIMPLE_config_file.xlsx\" # Path to the configuration file containing database connection details\n",
    "OUTPUT_FILE = \"Outputs/Hamming_out.csv\" # Path to the output file where results will be saved\n",
    "OUTPUT_FORMAT = \"csv\"  # Output format can be 'csv','xlsx', 'tsv' or 'md'\n",
    "\n",
    "QUERY_FILE = \"test_query.xlsx\" # Path to the file containing query sequences\n",
    "QUERY_SEQUENCE_COLUMN = \"sequence\"  # Column name in the query file that contains sequences\n",
    "\n",
    "NUMBER_OF_PROCESSORS = 3  # Number of processors to use for parallel processing\n",
    "INDEX_OF_DATABASE_TO_SEARCH = 0  # Index of the database to search against (0-based index) - Check config file for available databases"
   ]
  },
  {
   "cell_type": "markdown",
   "id": "7b5c32b2",
   "metadata": {},
   "source": [
    "## 🔧 Advanced Configuration\n",
    "Warning ⚠️: Advanced configuration options. Please refer to the documentation for detailed information. This settings are optional and can be omitted for standard use cases. Those values **will rewrite** the values in the config file."
   ]
  },
  {
   "cell_type": "code",
   "execution_count": null,
   "id": "2648570b",
   "metadata": {},
   "outputs": [],
   "source": [
    "configuration_dict = {\n",
    "    # Database connection details\n",
    "    \"Query_path\": QUERY_FILE, # Path to the query database file\n",
    "    \"Query_sequence_column\": QUERY_SEQUENCE_COLUMN, # Column name in the query database containing sequences\n",
    "\n",
    "    # Number of processors to use for parallel processing\n",
    "    \"Number_of_processors\": NUMBER_OF_PROCESSORS,\n",
    "\n",
    "    # Hamming distance settings\n",
    "    \"Hamming_distance_max_distance\": 1, # Maximum Hamming distance to consider sequences as similar\n",
    "}"
   ]
  },
  {
   "cell_type": "markdown",
   "id": "3eb2215a",
   "metadata": {},
   "source": [
    "## 🧪 Testing"
   ]
  },
  {
   "cell_type": "code",
   "execution_count": null,
   "id": "73f6e341",
   "metadata": {},
   "outputs": [
    {
     "name": "stdout",
     "output_type": "stream",
     "text": [
      "╒════════════════════════╤════════════╤═══════════════════╤══════════════════════╕\n",
      "│ Test Name              │ Status     │ File Comparison   │   Execution Time (s) │\n",
      "╞════════════════════════╪════════════╪═══════════════════╪══════════════════════╡\n",
      "│ Initialization Test    │ ✅ Success │ N/A               │                 0.09 │\n",
      "├────────────────────────┼────────────┼───────────────────┼──────────────────────┤\n",
      "│ Exporting Test         │ ✅ Success │ N/A               │                 0.01 │\n",
      "├────────────────────────┼────────────┼───────────────────┼──────────────────────┤\n",
      "│ Exact Match Test       │ ✅ Success │ ✅ Match          │                 0.03 │\n",
      "├────────────────────────┼────────────┼───────────────────┼──────────────────────┤\n",
      "│ Hamming Distances Test │ ✅ Success │ ✅ Match          │                 1.99 │\n",
      "├────────────────────────┼────────────┼───────────────────┼──────────────────────┤\n",
      "│ Aligner Test           │ ✅ Success │ ✅ Match          │                 0.68 │\n",
      "├────────────────────────┼────────────┼───────────────────┼──────────────────────┤\n",
      "│ BLAST Test             │ ✅ Success │ ✅ Match          │                 0.53 │\n",
      "╘════════════════════════╧════════════╧═══════════════════╧══════════════════════╛\n"
     ]
    }
   ],
   "source": [
    "db = db_compare.DB_comparator(CONFIG_FILE, log_tag=\"HammingDistance\", log_project=\"HammingDistance Project\", configuration_dict=configuration_dict)\n",
    "db.test.start()\n",
    "print(db)"
   ]
  },
  {
   "cell_type": "markdown",
   "id": "0ec5ffc7",
   "metadata": {},
   "source": [
    "## 🔍 Run Hamming Distance Search\n",
    "Run the search on the database with the specified index. Check the config file for available databases. If you want to search all databases, uncomment the line below."
   ]
  },
  {
   "cell_type": "code",
   "execution_count": null,
   "id": "3a2d1cee",
   "metadata": {},
   "outputs": [],
   "source": [
    "db.fast_hamming_distances.find_hamming_distances_for_single_database(database_index=INDEX_OF_DATABASE_TO_SEARCH, parallel=True) # Multiprocessing enabled (parallel=True)\n",
    "\n",
    "\n",
    "# If you want to search all databases, uncomment the line below and comment the line above\n",
    "# db.fast_hamming_distances.find_hamming_distances_for_all_databases(parallel=True) # Multiprocessing enabled (parallel=True)"
   ]
  },
  {
   "cell_type": "markdown",
   "id": "ad103171",
   "metadata": {},
   "source": [
    "## 📤 Export and Display Results"
   ]
  },
  {
   "cell_type": "code",
   "execution_count": 10,
   "id": "d87e428d",
   "metadata": {},
   "outputs": [
    {
     "data": {
      "text/html": [
       "<div>\n",
       "<style scoped>\n",
       "    .dataframe tbody tr th:only-of-type {\n",
       "        vertical-align: middle;\n",
       "    }\n",
       "\n",
       "    .dataframe tbody tr th {\n",
       "        vertical-align: top;\n",
       "    }\n",
       "\n",
       "    .dataframe thead th {\n",
       "        text-align: right;\n",
       "    }\n",
       "</style>\n",
       "<table border=\"1\" class=\"dataframe\">\n",
       "  <thead>\n",
       "    <tr style=\"text-align: right;\">\n",
       "      <th></th>\n",
       "      <th>sequence</th>\n",
       "      <th>info</th>\n",
       "      <th>Databases/test_database.csv</th>\n",
       "    </tr>\n",
       "  </thead>\n",
       "  <tbody>\n",
       "    <tr>\n",
       "      <th>0</th>\n",
       "      <td>CPTGGAQGKHIPQSF</td>\n",
       "      <td>62</td>\n",
       "      <td>[seq: CPTGGAQGKHIPQSF (Value_identifier: 8) (T...</td>\n",
       "    </tr>\n",
       "    <tr>\n",
       "      <th>1</th>\n",
       "      <td>CKASIPQGTHGGQPF</td>\n",
       "      <td>6</td>\n",
       "      <td>[seq: CKASIPQGTHGGQPF (Value_identifier: 10) (...</td>\n",
       "    </tr>\n",
       "    <tr>\n",
       "      <th>2</th>\n",
       "      <td>CPIQGHPASQGGKTF</td>\n",
       "      <td>83</td>\n",
       "      <td>[seq: CPIQGHPASQGGKTF (Value_identifier: 16) (...</td>\n",
       "    </tr>\n",
       "    <tr>\n",
       "      <th>3</th>\n",
       "      <td>CATGIHGQSQPKPGF</td>\n",
       "      <td>22</td>\n",
       "      <td>[seq: CATGIHGQSQPKPGF (Value_identifier: 20) (...</td>\n",
       "    </tr>\n",
       "    <tr>\n",
       "      <th>4</th>\n",
       "      <td>CPKTGQQSAHGGPIF</td>\n",
       "      <td>73</td>\n",
       "      <td>[seq: CPKTGQQSAHGGPIF (Value_identifier: 16) (...</td>\n",
       "    </tr>\n",
       "    <tr>\n",
       "      <th>...</th>\n",
       "      <td>...</td>\n",
       "      <td>...</td>\n",
       "      <td>...</td>\n",
       "    </tr>\n",
       "    <tr>\n",
       "      <th>95</th>\n",
       "      <td>CQHQTAPKIPSGGGF</td>\n",
       "      <td>38</td>\n",
       "      <td>[seq: CQHQTAPKIPSGGGF (Value_identifier: 388) ...</td>\n",
       "    </tr>\n",
       "    <tr>\n",
       "      <th>96</th>\n",
       "      <td>CQKPPGTGGHQISAF</td>\n",
       "      <td>50</td>\n",
       "      <td>[seq: CQKPPGTGGHQISAF (Value_identifier: 392) ...</td>\n",
       "    </tr>\n",
       "    <tr>\n",
       "      <th>97</th>\n",
       "      <td>CQGAIHSKGQPTGPF</td>\n",
       "      <td>50</td>\n",
       "      <td>[seq: CQGAIHSKGQPTGPF (Value_identifier: 396) ...</td>\n",
       "    </tr>\n",
       "    <tr>\n",
       "      <th>98</th>\n",
       "      <td>CGGTPQSQHAIPKGF</td>\n",
       "      <td>43</td>\n",
       "      <td>[seq: CGGTPQSQHAIPKGF (Value_identifier: 400) ...</td>\n",
       "    </tr>\n",
       "    <tr>\n",
       "      <th>99</th>\n",
       "      <td>CGKHQAPPTQGSGIF</td>\n",
       "      <td>6</td>\n",
       "      <td>[seq: CGKHQAPPTQGSGIF (Value_identifier: 400) ...</td>\n",
       "    </tr>\n",
       "  </tbody>\n",
       "</table>\n",
       "<p>100 rows × 3 columns</p>\n",
       "</div>"
      ],
      "text/plain": [
       "           sequence  info                        Databases/test_database.csv\n",
       "0   CPTGGAQGKHIPQSF    62  [seq: CPTGGAQGKHIPQSF (Value_identifier: 8) (T...\n",
       "1   CKASIPQGTHGGQPF     6  [seq: CKASIPQGTHGGQPF (Value_identifier: 10) (...\n",
       "2   CPIQGHPASQGGKTF    83  [seq: CPIQGHPASQGGKTF (Value_identifier: 16) (...\n",
       "3   CATGIHGQSQPKPGF    22  [seq: CATGIHGQSQPKPGF (Value_identifier: 20) (...\n",
       "4   CPKTGQQSAHGGPIF    73  [seq: CPKTGQQSAHGGPIF (Value_identifier: 16) (...\n",
       "..              ...   ...                                                ...\n",
       "95  CQHQTAPKIPSGGGF    38  [seq: CQHQTAPKIPSGGGF (Value_identifier: 388) ...\n",
       "96  CQKPPGTGGHQISAF    50  [seq: CQKPPGTGGHQISAF (Value_identifier: 392) ...\n",
       "97  CQGAIHSKGQPTGPF    50  [seq: CQGAIHSKGQPTGPF (Value_identifier: 396) ...\n",
       "98  CGGTPQSQHAIPKGF    43  [seq: CGGTPQSQHAIPKGF (Value_identifier: 400) ...\n",
       "99  CGKHQAPPTQGSGIF     6  [seq: CGKHQAPPTQGSGIF (Value_identifier: 400) ...\n",
       "\n",
       "[100 rows x 3 columns]"
      ]
     },
     "metadata": {},
     "output_type": "display_data"
    }
   ],
   "source": [
    "db.export_data_frame(output_file=OUTPUT_FILE, data_format=OUTPUT_FORMAT)\n",
    "display(pd.read_csv(OUTPUT_FILE)) "
   ]
  }
 ],
 "metadata": {
  "kernelspec": {
   "display_name": "Python 3",
   "language": "python",
   "name": "python3"
  },
  "language_info": {
   "codemirror_mode": {
    "name": "ipython",
    "version": 3
   },
   "file_extension": ".py",
   "mimetype": "text/x-python",
   "name": "python",
   "nbconvert_exporter": "python",
   "pygments_lexer": "ipython3",
   "version": "3.10.12"
  }
 },
 "nbformat": 4,
 "nbformat_minor": 5
}
