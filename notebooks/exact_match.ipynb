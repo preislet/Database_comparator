{
 "cells": [
  {
   "cell_type": "markdown",
   "id": "a7a8f493",
   "metadata": {},
   "source": [
    "# 🧬 Exact Match Search\n",
    "Purpose: Perform an exact match search across all configured databases and export the results in the selected format."
   ]
  },
  {
   "cell_type": "code",
   "execution_count": 1,
   "id": "248c4b02",
   "metadata": {},
   "outputs": [
    {
     "ename": "ModuleNotFoundError",
     "evalue": "No module named 'Database_comparator'",
     "output_type": "error",
     "traceback": [
      "\u001b[1;31m---------------------------------------------------------------------------\u001b[0m",
      "\u001b[1;31mModuleNotFoundError\u001b[0m                       Traceback (most recent call last)",
      "Cell \u001b[1;32mIn[1], line 3\u001b[0m\n\u001b[0;32m      1\u001b[0m \u001b[38;5;28;01mimport\u001b[39;00m \u001b[38;5;21;01mpandas\u001b[39;00m \u001b[38;5;28;01mas\u001b[39;00m \u001b[38;5;21;01mpd\u001b[39;00m\n\u001b[0;32m      2\u001b[0m \u001b[38;5;28;01mimport\u001b[39;00m \u001b[38;5;21;01mnumpy\u001b[39;00m \u001b[38;5;28;01mas\u001b[39;00m \u001b[38;5;21;01mnp\u001b[39;00m\n\u001b[1;32m----> 3\u001b[0m \u001b[38;5;28;01mfrom\u001b[39;00m \u001b[38;5;21;01mDatabase_comparator\u001b[39;00m \u001b[38;5;28;01mimport\u001b[39;00m db_compare\n",
      "\u001b[1;31mModuleNotFoundError\u001b[0m: No module named 'Database_comparator'"
     ]
    }
   ],
   "source": [
    "import pandas as pd\n",
    "import numpy as np\n",
    "from Database_comparator import db_compare"
   ]
  },
  {
   "cell_type": "markdown",
   "id": "8ab7e647",
   "metadata": {},
   "source": [
    "## ⚙️ Configuration"
   ]
  },
  {
   "cell_type": "code",
   "execution_count": null,
   "id": "59baa93b",
   "metadata": {},
   "outputs": [],
   "source": [
    "CONFIG_FILE = \"_DEFAULT_SIMPLE_config_file.xlsx\" # Path to the configuration file containing database connection details\n",
    "OUTPUT_FILE = \"exact_out.csv\" # Path to the output file where results will be saved\n",
    "OUTPUT_FORMAT = \"csv\"  # Output format can be 'csv','xlsx', 'tsv' or 'md'\n",
    "\n",
    "QUERY_FILE = \"test_query.xlsx\" # Path to the file containing query sequences\n",
    "QUERY_SEQUENCE_COLUMN = \"sequence\"  # Column name in the query file that contains sequences\n",
    "\n",
    "NUMBER_OF_PROCESSORS = 3  # Number of processors to use for parallel processing\n",
    "INDEX_OF_DATABASE_TO_SEARCH = 0  # Index of the database to search against (0-based index) - Check config file for available databases"
   ]
  },
  {
   "cell_type": "markdown",
   "id": "de5565de",
   "metadata": {},
   "source": [
    "## 🔧 Advanced Configuration\n",
    "Warning ⚠️: Advanced configuration options. Please refer to the documentation for detailed information. This settings are optional and can be omitted for standard use cases. Those values **will rewrite** the values in the config file."
   ]
  },
  {
   "cell_type": "code",
   "execution_count": null,
   "id": "d0bf9b3b",
   "metadata": {},
   "outputs": [],
   "source": [
    "configuration_dict = {\n",
    "    # Database connection details\n",
    "    \"Query_path\": QUERY_FILE, # Path to the query database file\n",
    "    \"Query_sequence_column\": QUERY_SEQUENCE_COLUMN, # Column name in the query database containing sequences\n",
    "\n",
    "    # Number of processors to use for parallel processing\n",
    "    \"Number_of_processors\": NUMBER_OF_PROCESSORS,\n",
    "}"
   ]
  },
  {
   "cell_type": "markdown",
   "id": "fa589330",
   "metadata": {},
   "source": [
    "## 🧪 Testing"
   ]
  },
  {
   "cell_type": "code",
   "execution_count": null,
   "id": "e6665e9a",
   "metadata": {},
   "outputs": [
    {
     "name": "stdout",
     "output_type": "stream",
     "text": [
      "Initialization test failed with error: [Errno 2] No such file or directory: 'TMP_testing_folder/test_config_file.txt'\n",
      "╒════════════════════════╤═══════════╤═══════════════════╤══════════════════════╕\n",
      "│ Test Name              │ Status    │ File Comparison   │ Execution Time (s)   │\n",
      "╞════════════════════════╪═══════════╪═══════════════════╪══════════════════════╡\n",
      "│ Initialization Test    │ ❌ Failed │ N/A               │ N/A                  │\n",
      "├────────────────────────┼───────────┼───────────────────┼──────────────────────┤\n",
      "│ Exporting Test         │ ❌ Failed │ N/A               │ N/A                  │\n",
      "├────────────────────────┼───────────┼───────────────────┼──────────────────────┤\n",
      "│ Exact Match Test       │ ❌ Failed │ ❌ Not compared   │ N/A                  │\n",
      "├────────────────────────┼───────────┼───────────────────┼──────────────────────┤\n",
      "│ Hamming Distances Test │ ❌ Failed │ ❌ Not compared   │ N/A                  │\n",
      "├────────────────────────┼───────────┼───────────────────┼──────────────────────┤\n",
      "│ Aligner Test           │ ❌ Failed │ ❌ Not compared   │ N/A                  │\n",
      "├────────────────────────┼───────────┼───────────────────┼──────────────────────┤\n",
      "│ BLAST Test             │ ❌ Failed │ ❌ Not compared   │ N/A                  │\n",
      "╘════════════════════════╧═══════════╧═══════════════════╧══════════════════════╛\n"
     ]
    }
   ],
   "source": [
    "db = db_compare.DB_comparator(CONFIG_FILE, log_tag=\"Exact_match\", log_project=\"ExactMatch Project\", configuration_dict=configuration_dict)\n",
    "db.test.start() \n",
    "print(db)"
   ]
  },
  {
   "cell_type": "markdown",
   "id": "b949f403",
   "metadata": {},
   "source": [
    "## 🔍 Run Exact Match Search\n",
    "Run the search on the database with the specified index. Check the config file for available databases. If you want to search all databases, uncomment the line below."
   ]
  },
  {
   "cell_type": "code",
   "execution_count": null,
   "id": "82c5bf45",
   "metadata": {},
   "outputs": [],
   "source": [
    "db.exact_match.exact_match_search_in_single_database(database_index=INDEX_OF_DATABASE_TO_SEARCH, parallel=True) # Multiprocessing enabled (parallel=True)\n",
    "\n",
    "# If you want to search all databases, uncomment the line below and comment the line above\n",
    "# db.exact_match.exact_match_search_in_all_databases(parallel=True) # Multiprocessing enabled (parallel=True)"
   ]
  },
  {
   "cell_type": "markdown",
   "id": "9bb2e60d",
   "metadata": {},
   "source": [
    "## 📤 Export and Display Results"
   ]
  },
  {
   "cell_type": "code",
   "execution_count": null,
   "id": "3c86316c",
   "metadata": {},
   "outputs": [
    {
     "data": {
      "text/html": [
       "<div>\n",
       "<style scoped>\n",
       "    .dataframe tbody tr th:only-of-type {\n",
       "        vertical-align: middle;\n",
       "    }\n",
       "\n",
       "    .dataframe tbody tr th {\n",
       "        vertical-align: top;\n",
       "    }\n",
       "\n",
       "    .dataframe thead th {\n",
       "        text-align: right;\n",
       "    }\n",
       "</style>\n",
       "<table border=\"1\" class=\"dataframe\">\n",
       "  <thead>\n",
       "    <tr style=\"text-align: right;\">\n",
       "      <th></th>\n",
       "      <th>sequence</th>\n",
       "      <th>info</th>\n",
       "      <th>Databases/test_database.csv</th>\n",
       "    </tr>\n",
       "  </thead>\n",
       "  <tbody>\n",
       "    <tr>\n",
       "      <th>0</th>\n",
       "      <td>CPTGGAQGKHIPQSF</td>\n",
       "      <td>62</td>\n",
       "      <td>[seq: CPTGGAQGKHIPQSF (Value_identifier: 8) (T...</td>\n",
       "    </tr>\n",
       "    <tr>\n",
       "      <th>1</th>\n",
       "      <td>CKASIPQGTHGGQPF</td>\n",
       "      <td>6</td>\n",
       "      <td>[seq: CKASIPQGTHGGQPF (Value_identifier: 10) (...</td>\n",
       "    </tr>\n",
       "    <tr>\n",
       "      <th>2</th>\n",
       "      <td>CPIQGHPASQGGKTF</td>\n",
       "      <td>83</td>\n",
       "      <td>[seq: CPIQGHPASQGGKTF (Value_identifier: 16) (...</td>\n",
       "    </tr>\n",
       "    <tr>\n",
       "      <th>3</th>\n",
       "      <td>CATGIHGQSQPKPGF</td>\n",
       "      <td>22</td>\n",
       "      <td>[seq: CATGIHGQSQPKPGF (Value_identifier: 20) (...</td>\n",
       "    </tr>\n",
       "    <tr>\n",
       "      <th>4</th>\n",
       "      <td>CPKTGQQSAHGGPIF</td>\n",
       "      <td>73</td>\n",
       "      <td>[seq: CPKTGQQSAHGGPIF (Value_identifier: 16) (...</td>\n",
       "    </tr>\n",
       "    <tr>\n",
       "      <th>...</th>\n",
       "      <td>...</td>\n",
       "      <td>...</td>\n",
       "      <td>...</td>\n",
       "    </tr>\n",
       "    <tr>\n",
       "      <th>95</th>\n",
       "      <td>CQHQTAPKIPSGGGF</td>\n",
       "      <td>38</td>\n",
       "      <td>[seq: CQHQTAPKIPSGGGF (Value_identifier: 388) ...</td>\n",
       "    </tr>\n",
       "    <tr>\n",
       "      <th>96</th>\n",
       "      <td>CQKPPGTGGHQISAF</td>\n",
       "      <td>50</td>\n",
       "      <td>[seq: CQKPPGTGGHQISAF (Value_identifier: 392) ...</td>\n",
       "    </tr>\n",
       "    <tr>\n",
       "      <th>97</th>\n",
       "      <td>CQGAIHSKGQPTGPF</td>\n",
       "      <td>50</td>\n",
       "      <td>[seq: CQGAIHSKGQPTGPF (Value_identifier: 396) ...</td>\n",
       "    </tr>\n",
       "    <tr>\n",
       "      <th>98</th>\n",
       "      <td>CGGTPQSQHAIPKGF</td>\n",
       "      <td>43</td>\n",
       "      <td>[seq: CGGTPQSQHAIPKGF (Value_identifier: 400) ...</td>\n",
       "    </tr>\n",
       "    <tr>\n",
       "      <th>99</th>\n",
       "      <td>CGKHQAPPTQGSGIF</td>\n",
       "      <td>6</td>\n",
       "      <td>[seq: CGKHQAPPTQGSGIF (Value_identifier: 400) ...</td>\n",
       "    </tr>\n",
       "  </tbody>\n",
       "</table>\n",
       "<p>100 rows × 3 columns</p>\n",
       "</div>"
      ],
      "text/plain": [
       "           sequence  info                        Databases/test_database.csv\n",
       "0   CPTGGAQGKHIPQSF    62  [seq: CPTGGAQGKHIPQSF (Value_identifier: 8) (T...\n",
       "1   CKASIPQGTHGGQPF     6  [seq: CKASIPQGTHGGQPF (Value_identifier: 10) (...\n",
       "2   CPIQGHPASQGGKTF    83  [seq: CPIQGHPASQGGKTF (Value_identifier: 16) (...\n",
       "3   CATGIHGQSQPKPGF    22  [seq: CATGIHGQSQPKPGF (Value_identifier: 20) (...\n",
       "4   CPKTGQQSAHGGPIF    73  [seq: CPKTGQQSAHGGPIF (Value_identifier: 16) (...\n",
       "..              ...   ...                                                ...\n",
       "95  CQHQTAPKIPSGGGF    38  [seq: CQHQTAPKIPSGGGF (Value_identifier: 388) ...\n",
       "96  CQKPPGTGGHQISAF    50  [seq: CQKPPGTGGHQISAF (Value_identifier: 392) ...\n",
       "97  CQGAIHSKGQPTGPF    50  [seq: CQGAIHSKGQPTGPF (Value_identifier: 396) ...\n",
       "98  CGGTPQSQHAIPKGF    43  [seq: CGGTPQSQHAIPKGF (Value_identifier: 400) ...\n",
       "99  CGKHQAPPTQGSGIF     6  [seq: CGKHQAPPTQGSGIF (Value_identifier: 400) ...\n",
       "\n",
       "[100 rows x 3 columns]"
      ]
     },
     "metadata": {},
     "output_type": "display_data"
    }
   ],
   "source": [
    "db.export_data_frame(output_file=OUTPUT_FILE, data_format=OUTPUT_FORMAT)\n",
    "display(pd.read_csv(OUTPUT_FILE)) "
   ]
  }
 ],
 "metadata": {
  "kernelspec": {
   "display_name": "Python 3",
   "language": "python",
   "name": "python3"
  },
  "language_info": {
   "codemirror_mode": {
    "name": "ipython",
    "version": 3
   },
   "file_extension": ".py",
   "mimetype": "text/x-python",
   "name": "python",
   "nbconvert_exporter": "python",
   "pygments_lexer": "ipython3",
   "version": "3.11.5"
  }
 },
 "nbformat": 4,
 "nbformat_minor": 5
}
