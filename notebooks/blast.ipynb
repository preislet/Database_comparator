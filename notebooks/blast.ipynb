{
 "cells": [
  {
   "cell_type": "markdown",
   "id": "bb706a51",
   "metadata": {},
   "source": [
    "# 🧬 BLAST Search\n",
    "Purpose: Perform a BLAST-like sequence similarity search using a custom database. Includes database preparation, parameter display, and result export."
   ]
  },
  {
   "cell_type": "code",
   "execution_count": 6,
   "id": "eb43e30d",
   "metadata": {},
   "outputs": [],
   "source": [
    "import pandas as pd\n",
    "import numpy as np\n",
    "\n",
    "from Database_comparator import db_compare"
   ]
  },
  {
   "cell_type": "markdown",
   "id": "d45ca8bb",
   "metadata": {},
   "source": [
    "## ⚙️ Configuration"
   ]
  },
  {
   "cell_type": "code",
   "execution_count": null,
   "id": "8cecfd83",
   "metadata": {},
   "outputs": [],
   "source": [
    "CONFIG_FILE = \"_DEFAULT_SIMPLE_config_file.xlsx\" # Path to the configuration file containing database connection details\n",
    "OUTPUT_FILE = \"Outputs/blast_out.csv\" # Path to the output file where results will be saved\n",
    "OUTPUT_FORMAT = \"csv\"  # Output format can be 'csv','xlsx', 'tsv' or 'md'\n",
    "\n",
    "QUERY_FILE = \"test_query.xlsx\" # Path to the file containing query sequences\n",
    "QUERY_SEQUENCE_COLUMN = \"sequence\"  # Column name in the query file that contains sequences\n",
    "\n",
    "NUMBER_OF_PROCESSORS = 3  # Number of processors to use for parallel processing\n",
    "INDEX_OF_DATABASE_TO_SEARCH = 0  # Index of the database to search against (0-based index) - Check config file for available databases"
   ]
  },
  {
   "cell_type": "markdown",
   "id": "fa9b4d00",
   "metadata": {},
   "source": [
    "## 🔧 Advanced Configuration\n",
    "Warning ⚠️: Advanced configuration options. Please refer to the documentation for detailed information. This settings are optional and can be omitted for standard use cases. Those values **will rewrite** the values in the config file."
   ]
  },
  {
   "cell_type": "code",
   "execution_count": null,
   "id": "d2280555",
   "metadata": {},
   "outputs": [],
   "source": [
    "configuration_dict = {\n",
    "    # Database connection details\n",
    "    \"Query_path\": QUERY_FILE, # Path to the query database file\n",
    "    \"Query_sequence_column\": QUERY_SEQUENCE_COLUMN, # Column name in the query database containing sequences\n",
    "\n",
    "    # Number of processors to use for parallel processing\n",
    "    \"Number_of_processors\": NUMBER_OF_PROCESSORS,\n",
    "\n",
    "    # Blast settings\n",
    "    \"Blast_e_value\": 0.05, # E-value threshold for BLAST searches\n",
    "    \"Blast_name_of_created_database\": \"blast_db\", # Name of the BLAST database to create\n",
    "    \"Blast_output_name\": \"blast_output.txt\", # Name of the BLAST output file\n",
    "}"
   ]
  },
  {
   "cell_type": "markdown",
   "id": "0becde56",
   "metadata": {},
   "source": [
    "## 🧪 Testing"
   ]
  },
  {
   "cell_type": "code",
   "execution_count": null,
   "id": "e1270f0c",
   "metadata": {},
   "outputs": [],
   "source": [
    "db = db_compare.DB_comparator(CONFIG_FILE, log_tag=\"BLAST\", log_project=\"BLAST Project\", configuration_dict=configuration_dict)\n",
    "db.test.start()\n",
    "print(db)"
   ]
  },
  {
   "cell_type": "markdown",
   "id": "58815a3e",
   "metadata": {},
   "source": [
    "## 🔍 Run BLAST Workflow\n",
    "Blast search on all databases defined in the config file."
   ]
  },
  {
   "cell_type": "code",
   "execution_count": 9,
   "id": "ee887e3d",
   "metadata": {},
   "outputs": [
    {
     "name": "stdout",
     "output_type": "stream",
     "text": [
      "Inserted databases:\n",
      "{'path': 'Databases/test_database.csv', 'sequence_column_name': 'sequence', 'results_column': 'Databases/test_database.csv', 'identifier_of_seq': ['Value_identifier', 'Text_identifier']}\n",
      "-----------------------------------------------------\n",
      "Matrix: BLOSUM62\n",
      "GaPenalties: Existence: 11, Extension: 1\n",
      "Neighboring words threshold: 11\n",
      "Window for multiple hits: 40\n"
     ]
    },
    {
     "data": {
      "text/html": [
       "<div>\n",
       "<style scoped>\n",
       "    .dataframe tbody tr th:only-of-type {\n",
       "        vertical-align: middle;\n",
       "    }\n",
       "\n",
       "    .dataframe tbody tr th {\n",
       "        vertical-align: top;\n",
       "    }\n",
       "\n",
       "    .dataframe thead th {\n",
       "        text-align: right;\n",
       "    }\n",
       "</style>\n",
       "<table border=\"1\" class=\"dataframe\">\n",
       "  <thead>\n",
       "    <tr style=\"text-align: right;\">\n",
       "      <th></th>\n",
       "      <th>sequence</th>\n",
       "      <th>info</th>\n",
       "      <th>Databases/test_database.csv</th>\n",
       "    </tr>\n",
       "  </thead>\n",
       "  <tbody>\n",
       "    <tr>\n",
       "      <th>0</th>\n",
       "      <td>CPTGGAQGKHIPQSF</td>\n",
       "      <td>62</td>\n",
       "      <td>[seq: CPTGGAQGKHIPQSF identifier:(Value_identi...</td>\n",
       "    </tr>\n",
       "    <tr>\n",
       "      <th>1</th>\n",
       "      <td>CKASIPQGTHGGQPF</td>\n",
       "      <td>6</td>\n",
       "      <td>[seq: CKASIPQGTHGGQPF identifier:(Value_identi...</td>\n",
       "    </tr>\n",
       "    <tr>\n",
       "      <th>2</th>\n",
       "      <td>CPIQGHPASQGGKTF</td>\n",
       "      <td>83</td>\n",
       "      <td>[seq: CPIQGHPASQGGKTF identifier:(Value_identi...</td>\n",
       "    </tr>\n",
       "    <tr>\n",
       "      <th>3</th>\n",
       "      <td>CATGIHGQSQPKPGF</td>\n",
       "      <td>22</td>\n",
       "      <td>[seq: CATGIHGQSQPKPGF identifier:(Value_identi...</td>\n",
       "    </tr>\n",
       "    <tr>\n",
       "      <th>4</th>\n",
       "      <td>CPKTGQQSAHGGPIF</td>\n",
       "      <td>73</td>\n",
       "      <td>[seq: CPKTGQQSAHGGPIF identifier:(Value_identi...</td>\n",
       "    </tr>\n",
       "    <tr>\n",
       "      <th>...</th>\n",
       "      <td>...</td>\n",
       "      <td>...</td>\n",
       "      <td>...</td>\n",
       "    </tr>\n",
       "    <tr>\n",
       "      <th>95</th>\n",
       "      <td>CQHQTAPKIPSGGGF</td>\n",
       "      <td>38</td>\n",
       "      <td>[seq: CQHQTAPKIPSGGGF identifier:(Value_identi...</td>\n",
       "    </tr>\n",
       "    <tr>\n",
       "      <th>96</th>\n",
       "      <td>CQKPPGTGGHQISAF</td>\n",
       "      <td>50</td>\n",
       "      <td>[seq: CQKPPGTGGHQISAF identifier:(Value_identi...</td>\n",
       "    </tr>\n",
       "    <tr>\n",
       "      <th>97</th>\n",
       "      <td>CQGAIHSKGQPTGPF</td>\n",
       "      <td>50</td>\n",
       "      <td>[seq: CQGAIHSKGQPTGPF identifier:(Value_identi...</td>\n",
       "    </tr>\n",
       "    <tr>\n",
       "      <th>98</th>\n",
       "      <td>CGGTPQSQHAIPKGF</td>\n",
       "      <td>43</td>\n",
       "      <td>[seq: CGGTPQSQHAIPKGF identifier:(Value_identi...</td>\n",
       "    </tr>\n",
       "    <tr>\n",
       "      <th>99</th>\n",
       "      <td>CGKHQAPPTQGSGIF</td>\n",
       "      <td>6</td>\n",
       "      <td>[seq: CGKHQAPPTQGSGIF identifier:(Value_identi...</td>\n",
       "    </tr>\n",
       "  </tbody>\n",
       "</table>\n",
       "<p>100 rows × 3 columns</p>\n",
       "</div>"
      ],
      "text/plain": [
       "           sequence  info                        Databases/test_database.csv\n",
       "0   CPTGGAQGKHIPQSF    62  [seq: CPTGGAQGKHIPQSF identifier:(Value_identi...\n",
       "1   CKASIPQGTHGGQPF     6  [seq: CKASIPQGTHGGQPF identifier:(Value_identi...\n",
       "2   CPIQGHPASQGGKTF    83  [seq: CPIQGHPASQGGKTF identifier:(Value_identi...\n",
       "3   CATGIHGQSQPKPGF    22  [seq: CATGIHGQSQPKPGF identifier:(Value_identi...\n",
       "4   CPKTGQQSAHGGPIF    73  [seq: CPKTGQQSAHGGPIF identifier:(Value_identi...\n",
       "..              ...   ...                                                ...\n",
       "95  CQHQTAPKIPSGGGF    38  [seq: CQHQTAPKIPSGGGF identifier:(Value_identi...\n",
       "96  CQKPPGTGGHQISAF    50  [seq: CQKPPGTGGHQISAF identifier:(Value_identi...\n",
       "97  CQGAIHSKGQPTGPF    50  [seq: CQGAIHSKGQPTGPF identifier:(Value_identi...\n",
       "98  CGGTPQSQHAIPKGF    43  [seq: CGGTPQSQHAIPKGF identifier:(Value_identi...\n",
       "99  CGKHQAPPTQGSGIF     6  [seq: CGKHQAPPTQGSGIF identifier:(Value_identi...\n",
       "\n",
       "[100 rows x 3 columns]"
      ]
     },
     "execution_count": 9,
     "metadata": {},
     "output_type": "execute_result"
    }
   ],
   "source": [
    "db.blast.blast_database_info() # Provides information about the BLAST database\n",
    "\n",
    "db.blast.blast_make_database(name=\"BLAST_Database\") # Creates BLAST database\n",
    "db.blast.blast_search_and_analyze_matches_in_database() # Query is input database"
   ]
  },
  {
   "cell_type": "markdown",
   "id": "6b8f22de",
   "metadata": {},
   "source": [
    "## 📤 Export and Display Results"
   ]
  },
  {
   "cell_type": "code",
   "execution_count": 10,
   "id": "460e0809",
   "metadata": {},
   "outputs": [
    {
     "data": {
      "text/html": [
       "<div>\n",
       "<style scoped>\n",
       "    .dataframe tbody tr th:only-of-type {\n",
       "        vertical-align: middle;\n",
       "    }\n",
       "\n",
       "    .dataframe tbody tr th {\n",
       "        vertical-align: top;\n",
       "    }\n",
       "\n",
       "    .dataframe thead th {\n",
       "        text-align: right;\n",
       "    }\n",
       "</style>\n",
       "<table border=\"1\" class=\"dataframe\">\n",
       "  <thead>\n",
       "    <tr style=\"text-align: right;\">\n",
       "      <th></th>\n",
       "      <th>sequence</th>\n",
       "      <th>info</th>\n",
       "      <th>Databases/test_database.csv</th>\n",
       "    </tr>\n",
       "  </thead>\n",
       "  <tbody>\n",
       "    <tr>\n",
       "      <th>0</th>\n",
       "      <td>CPTGGAQGKHIPQSF</td>\n",
       "      <td>62</td>\n",
       "      <td>[seq: CPTGGAQGKHIPQSF identifier:(Value_identi...</td>\n",
       "    </tr>\n",
       "    <tr>\n",
       "      <th>1</th>\n",
       "      <td>CKASIPQGTHGGQPF</td>\n",
       "      <td>6</td>\n",
       "      <td>[seq: CKASIPQGTHGGQPF identifier:(Value_identi...</td>\n",
       "    </tr>\n",
       "    <tr>\n",
       "      <th>2</th>\n",
       "      <td>CPIQGHPASQGGKTF</td>\n",
       "      <td>83</td>\n",
       "      <td>[seq: CPIQGHPASQGGKTF identifier:(Value_identi...</td>\n",
       "    </tr>\n",
       "    <tr>\n",
       "      <th>3</th>\n",
       "      <td>CATGIHGQSQPKPGF</td>\n",
       "      <td>22</td>\n",
       "      <td>[seq: CATGIHGQSQPKPGF identifier:(Value_identi...</td>\n",
       "    </tr>\n",
       "    <tr>\n",
       "      <th>4</th>\n",
       "      <td>CPKTGQQSAHGGPIF</td>\n",
       "      <td>73</td>\n",
       "      <td>[seq: CPKTGQQSAHGGPIF identifier:(Value_identi...</td>\n",
       "    </tr>\n",
       "    <tr>\n",
       "      <th>...</th>\n",
       "      <td>...</td>\n",
       "      <td>...</td>\n",
       "      <td>...</td>\n",
       "    </tr>\n",
       "    <tr>\n",
       "      <th>95</th>\n",
       "      <td>CQHQTAPKIPSGGGF</td>\n",
       "      <td>38</td>\n",
       "      <td>[seq: CQHQTAPKIPSGGGF identifier:(Value_identi...</td>\n",
       "    </tr>\n",
       "    <tr>\n",
       "      <th>96</th>\n",
       "      <td>CQKPPGTGGHQISAF</td>\n",
       "      <td>50</td>\n",
       "      <td>[seq: CQKPPGTGGHQISAF identifier:(Value_identi...</td>\n",
       "    </tr>\n",
       "    <tr>\n",
       "      <th>97</th>\n",
       "      <td>CQGAIHSKGQPTGPF</td>\n",
       "      <td>50</td>\n",
       "      <td>[seq: CQGAIHSKGQPTGPF identifier:(Value_identi...</td>\n",
       "    </tr>\n",
       "    <tr>\n",
       "      <th>98</th>\n",
       "      <td>CGGTPQSQHAIPKGF</td>\n",
       "      <td>43</td>\n",
       "      <td>[seq: CGGTPQSQHAIPKGF identifier:(Value_identi...</td>\n",
       "    </tr>\n",
       "    <tr>\n",
       "      <th>99</th>\n",
       "      <td>CGKHQAPPTQGSGIF</td>\n",
       "      <td>6</td>\n",
       "      <td>[seq: CGKHQAPPTQGSGIF identifier:(Value_identi...</td>\n",
       "    </tr>\n",
       "  </tbody>\n",
       "</table>\n",
       "<p>100 rows × 3 columns</p>\n",
       "</div>"
      ],
      "text/plain": [
       "           sequence  info                        Databases/test_database.csv\n",
       "0   CPTGGAQGKHIPQSF    62  [seq: CPTGGAQGKHIPQSF identifier:(Value_identi...\n",
       "1   CKASIPQGTHGGQPF     6  [seq: CKASIPQGTHGGQPF identifier:(Value_identi...\n",
       "2   CPIQGHPASQGGKTF    83  [seq: CPIQGHPASQGGKTF identifier:(Value_identi...\n",
       "3   CATGIHGQSQPKPGF    22  [seq: CATGIHGQSQPKPGF identifier:(Value_identi...\n",
       "4   CPKTGQQSAHGGPIF    73  [seq: CPKTGQQSAHGGPIF identifier:(Value_identi...\n",
       "..              ...   ...                                                ...\n",
       "95  CQHQTAPKIPSGGGF    38  [seq: CQHQTAPKIPSGGGF identifier:(Value_identi...\n",
       "96  CQKPPGTGGHQISAF    50  [seq: CQKPPGTGGHQISAF identifier:(Value_identi...\n",
       "97  CQGAIHSKGQPTGPF    50  [seq: CQGAIHSKGQPTGPF identifier:(Value_identi...\n",
       "98  CGGTPQSQHAIPKGF    43  [seq: CGGTPQSQHAIPKGF identifier:(Value_identi...\n",
       "99  CGKHQAPPTQGSGIF     6  [seq: CGKHQAPPTQGSGIF identifier:(Value_identi...\n",
       "\n",
       "[100 rows x 3 columns]"
      ]
     },
     "metadata": {},
     "output_type": "display_data"
    }
   ],
   "source": [
    "db.export_data_frame(output_file=OUTPUT_FILE, data_format=OUTPUT_FORMAT)\n",
    "display(pd.read_csv(OUTPUT_FILE)) "
   ]
  }
 ],
 "metadata": {
  "kernelspec": {
   "display_name": "Python 3",
   "language": "python",
   "name": "python3"
  },
  "language_info": {
   "codemirror_mode": {
    "name": "ipython",
    "version": 3
   },
   "file_extension": ".py",
   "mimetype": "text/x-python",
   "name": "python",
   "nbconvert_exporter": "python",
   "pygments_lexer": "ipython3",
   "version": "3.10.12"
  }
 },
 "nbformat": 4,
 "nbformat_minor": 5
}
